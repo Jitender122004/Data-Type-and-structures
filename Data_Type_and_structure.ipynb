{
  "nbformat": 4,
  "nbformat_minor": 0,
  "metadata": {
    "colab": {
      "private_outputs": true,
      "provenance": []
    },
    "kernelspec": {
      "name": "python3",
      "display_name": "Python 3"
    },
    "language_info": {
      "name": "python"
    }
  },
  "cells": [
    {
      "cell_type": "code",
      "execution_count": null,
      "metadata": {
        "id": "7TIGsieOaULg"
      },
      "outputs": [],
      "source": []
    },
    {
      "cell_type": "markdown",
      "source": [
        "# Data type and structure\n"
      ],
      "metadata": {
        "id": "HSpq0vrEa_hI"
      }
    },
    {
      "cell_type": "markdown",
      "source": [
        "PRACTICAL QUESTIONS"
      ],
      "metadata": {
        "id": "wk6qSjbhbhTu"
      }
    },
    {
      "cell_type": "markdown",
      "source": [
        "1.) Write a code to create a string with your name and print it."
      ],
      "metadata": {
        "id": "gAyRQlYCcHL8"
      }
    },
    {
      "cell_type": "code",
      "source": [
        "name=\"Jitender\"\n",
        "print(name)"
      ],
      "metadata": {
        "collapsed": true,
        "id": "Quo0fn75cbQp"
      },
      "execution_count": null,
      "outputs": []
    },
    {
      "cell_type": "markdown",
      "source": [
        "2.)Write a code to find the length of the string \"Hello World\"."
      ],
      "metadata": {
        "id": "V7f8bO1CdbcP"
      }
    },
    {
      "cell_type": "code",
      "source": [
        "a=\"Hello world\"\n",
        "len(a)"
      ],
      "metadata": {
        "collapsed": true,
        "id": "glr8V7hNdqWG"
      },
      "execution_count": null,
      "outputs": []
    },
    {
      "cell_type": "markdown",
      "source": [
        "3.)Write a code to slice the first 3 characters from the string \"Python Programming\"."
      ],
      "metadata": {
        "id": "xxB09B-VeKNW"
      }
    },
    {
      "cell_type": "code",
      "source": [
        "s=\"Python Programming\"\n",
        "s[0:3]"
      ],
      "metadata": {
        "id": "x_lL15zTeQf0"
      },
      "execution_count": null,
      "outputs": []
    },
    {
      "cell_type": "markdown",
      "source": [
        "4.) Write a code to convert the string \"hello\" to uppercase."
      ],
      "metadata": {
        "id": "fkVYmqDVir8Q"
      }
    },
    {
      "cell_type": "code",
      "source": [
        "  s=\"Hello\"\n",
        "  s.upper()"
      ],
      "metadata": {
        "id": "6YyD2CFZif9X"
      },
      "execution_count": null,
      "outputs": []
    },
    {
      "cell_type": "markdown",
      "source": [
        "5.)Write a code to replace the word \"apple\" with \"orange\" in the string \"I like apple\""
      ],
      "metadata": {
        "id": "8FcmXZuLizQZ"
      }
    },
    {
      "cell_type": "code",
      "source": [
        "a=\"I like apple\"\n",
        "a.replace(\"apple\",\"Orange\")\n"
      ],
      "metadata": {
        "id": "Hzfvrv0li-Lt"
      },
      "execution_count": null,
      "outputs": []
    },
    {
      "cell_type": "markdown",
      "source": [
        "6.)Write a code to create a list with numbers 1 to 5 and print it."
      ],
      "metadata": {
        "id": "nPlLoCmHi-lb"
      }
    },
    {
      "cell_type": "code",
      "source": [
        "numbers=[1,2,3,4,5]\n",
        "print(numbers)"
      ],
      "metadata": {
        "id": "s_7cjrzAjL5F"
      },
      "execution_count": null,
      "outputs": []
    },
    {
      "cell_type": "markdown",
      "source": [
        " 7.)Write a code to append the number 10 to the list [1, 2, 3, 4]."
      ],
      "metadata": {
        "id": "1YoIx4e1jRYR"
      }
    },
    {
      "cell_type": "code",
      "source": [
        "List=[1,2,3,4]\n",
        "List.append(10)\n",
        "List"
      ],
      "metadata": {
        "id": "ZAsmFGkWjXGv"
      },
      "execution_count": null,
      "outputs": []
    },
    {
      "cell_type": "markdown",
      "source": [
        "8.) Write a code to remove the number 3 from the list [1, 2, 3, 4, 5]."
      ],
      "metadata": {
        "id": "0oIPWgfwjX7W"
      }
    },
    {
      "cell_type": "code",
      "source": [
        "List=[1,2,3,4,5]\n",
        "List.remove(3)\n",
        "List\n"
      ],
      "metadata": {
        "id": "VOICthoMjoBn"
      },
      "execution_count": null,
      "outputs": []
    },
    {
      "cell_type": "markdown",
      "source": [
        "9.)Write a code to access the second element in the list ['a', 'b', 'c', 'd']"
      ],
      "metadata": {
        "id": "pu0UVKv-jpW7"
      }
    },
    {
      "cell_type": "code",
      "source": [
        "List=['a', 'b', 'c', 'd']\n",
        "List[1]"
      ],
      "metadata": {
        "id": "ckcyAjxIj1lB"
      },
      "execution_count": null,
      "outputs": []
    },
    {
      "cell_type": "markdown",
      "source": [
        "10.)Write a code to reverse the list [10, 20, 30, 40, 50]."
      ],
      "metadata": {
        "id": "_6VFo6IOj2_b"
      }
    },
    {
      "cell_type": "code",
      "source": [
        "List=[10, 20, 30, 40, 50]\n",
        "List.reverse()\n",
        "List"
      ],
      "metadata": {
        "collapsed": true,
        "id": "dniAjUSasL_F"
      },
      "execution_count": null,
      "outputs": []
    },
    {
      "cell_type": "markdown",
      "source": [
        "11.)Write a code to create a tuple with the elements 100, 200, 300 and print it."
      ],
      "metadata": {
        "id": "1z7wTPbpsi_l"
      }
    },
    {
      "cell_type": "code",
      "source": [
        "t1=(100, 200, 300 )\n",
        "print(t1)"
      ],
      "metadata": {
        "id": "-NiFIe5bszVH"
      },
      "execution_count": null,
      "outputs": []
    },
    {
      "cell_type": "markdown",
      "source": [
        "12.)Write a code to access the second-to-last element of the tuple ('red', 'green', 'blue', 'yellow')."
      ],
      "metadata": {
        "id": "f0fY11Wjs4Iz"
      }
    },
    {
      "cell_type": "code",
      "source": [
        "t2= ('red', 'green', 'blue', 'yellow')\n",
        "t2[1:4]\n"
      ],
      "metadata": {
        "id": "ON693j-BtAx_"
      },
      "execution_count": null,
      "outputs": []
    },
    {
      "cell_type": "markdown",
      "source": [
        "13.)Write a code to find the minimum number in the tuple (10, 20, 5, 15)"
      ],
      "metadata": {
        "id": "W7tKzLWItBck"
      }
    },
    {
      "cell_type": "code",
      "source": [
        "s=(10, 20, 5, 15)\n",
        "min(s)\n"
      ],
      "metadata": {
        "id": "X4H-GRXX3-ON"
      },
      "execution_count": null,
      "outputs": []
    },
    {
      "cell_type": "markdown",
      "source": [
        "14.)Write a code to find the index of the element \"cat\" in the tuple ('dog', 'cat', 'rabbit')"
      ],
      "metadata": {
        "id": "W0mpv3MktMWZ"
      }
    },
    {
      "cell_type": "code",
      "source": [
        "Animal= ('dog', 'cat', 'rabbit')\n",
        "Animal.index(\"cat\")"
      ],
      "metadata": {
        "id": "Ti3ks4AOtSZv"
      },
      "execution_count": null,
      "outputs": []
    },
    {
      "cell_type": "markdown",
      "source": [
        " 15.)Write a code to create a tuple containing three different fruits and check if \"kiwi\" is in it."
      ],
      "metadata": {
        "id": "b-f9W5HTtS7u"
      }
    },
    {
      "cell_type": "code",
      "source": [
        "fruits=(\"mango\",\"Apple\",\"orange\")\n",
        "if \"kiwi\" in fruits:\n",
        "  print(\"kiwi is present\")\n",
        "else:\n",
        "    print(\"kiwi is not present\")"
      ],
      "metadata": {
        "id": "B_Ks7cI0tU-n"
      },
      "execution_count": null,
      "outputs": []
    },
    {
      "cell_type": "markdown",
      "source": [
        "16.)Write a code to create a set with the elements 'a', 'b', 'c' and print it."
      ],
      "metadata": {
        "id": "rcruKhIXtVYO"
      }
    },
    {
      "cell_type": "code",
      "source": [
        "s1 = {'a', 'b' ,'c'}\n",
        "print(s1)"
      ],
      "metadata": {
        "id": "h5ztdumYtbEh"
      },
      "execution_count": null,
      "outputs": []
    },
    {
      "cell_type": "markdown",
      "source": [
        "17.) Write a code to clear all elements from the set {1, 2, 3, 4, 5}."
      ],
      "metadata": {
        "id": "iYLnYsz4tbtn"
      }
    },
    {
      "cell_type": "code",
      "source": [
        "s1={1, 2, 3, 4, 5}\n",
        "s1.clear()\n",
        "s1"
      ],
      "metadata": {
        "id": "aR-gAz9ytiSD"
      },
      "execution_count": null,
      "outputs": []
    },
    {
      "cell_type": "markdown",
      "source": [
        "18.)Write a code to remove the element 4 from the set {1, 2, 3, 4}."
      ],
      "metadata": {
        "id": "AH7XgdEktjba"
      }
    },
    {
      "cell_type": "code",
      "source": [
        "s={1, 2, 3, 4}\n",
        "s.remove(4)\n",
        "s"
      ],
      "metadata": {
        "id": "O14N1yfrtqNr"
      },
      "execution_count": null,
      "outputs": []
    },
    {
      "cell_type": "markdown",
      "source": [
        "19.) Write a code to find the union of two sets {1, 2, 3} and {3, 4, 5}"
      ],
      "metadata": {
        "id": "rSmuKk50tq-u"
      }
    },
    {
      "cell_type": "code",
      "source": [
        "s1 = {1, 2, 3}\n",
        "s2 =  {3, 4, 5}\n",
        "s1|s2"
      ],
      "metadata": {
        "id": "BA9agpZNtuEa"
      },
      "execution_count": null,
      "outputs": []
    },
    {
      "cell_type": "markdown",
      "source": [
        " 20.)Write a code to find the intersection of two sets {1, 2, 3} and {2, 3, 4}."
      ],
      "metadata": {
        "id": "cpv4Swant098"
      }
    },
    {
      "cell_type": "code",
      "source": [
        "s1 = {1, 2, 3}\n",
        "s2 =  {3, 4, 5}\n",
        "s1&s2"
      ],
      "metadata": {
        "id": "AlEUJuFjt4kW"
      },
      "execution_count": null,
      "outputs": []
    },
    {
      "cell_type": "markdown",
      "source": [
        " 21.)Write a code to create a dictionary with the keys \"name\", \"age\", and \"city\", and print it."
      ],
      "metadata": {
        "id": "F5V_vl3Vt8hs"
      }
    },
    {
      "cell_type": "code",
      "source": [
        "dic={\"name\":\"jitu\",\"age\":21,\"city\": \"Pithoragarh\"}\n",
        "dic"
      ],
      "metadata": {
        "id": "SRV1LZert-Ku"
      },
      "execution_count": null,
      "outputs": []
    },
    {
      "cell_type": "markdown",
      "source": [
        "22.)Write a code to add a new key-value pair \"country\": \"USA\" to the dictionary {'name': 'John', 'age': 25}."
      ],
      "metadata": {
        "id": "qvKTBzmyt-vn"
      }
    },
    {
      "cell_type": "code",
      "source": [
        "info={'name': 'John', 'age': 25}\n",
        "info[\"country\"]=\"USA\"\n",
        "info"
      ],
      "metadata": {
        "id": "BQwoGYQ4uEbc"
      },
      "execution_count": null,
      "outputs": []
    },
    {
      "cell_type": "markdown",
      "source": [
        "23.)Write a code to access the value associated with the key \"name\" in the dictionary {'name': 'Alice', 'age': 30}."
      ],
      "metadata": {
        "id": "9zouNLbd2Cuh"
      }
    },
    {
      "cell_type": "code",
      "source": [
        "dic={'name': 'Alice', 'age': 30}\n",
        "dic[\"name\"]"
      ],
      "metadata": {
        "id": "NMexb4rV2FvB"
      },
      "execution_count": null,
      "outputs": []
    },
    {
      "cell_type": "markdown",
      "source": [
        "24.) Write a code to remove the key \"age\" from the dictionary {'name': 'Bob', 'age': 22, 'city': 'New York'}."
      ],
      "metadata": {
        "id": "jv-H0pCi2Kqr"
      }
    },
    {
      "cell_type": "code",
      "source": [
        "info={'name': 'Bob', 'age': 22, 'city': 'New York'}\n",
        "info.pop(\"age\")\n",
        "info"
      ],
      "metadata": {
        "id": "UKvqG3VH2O9m"
      },
      "execution_count": null,
      "outputs": []
    },
    {
      "cell_type": "markdown",
      "source": [
        "25.)Write a code to check if the key \"city\" exists in the dictionary {'name': 'Alice', 'city': 'Paris'}."
      ],
      "metadata": {
        "id": "7I12TMo62QJd"
      }
    },
    {
      "cell_type": "code",
      "source": [
        "dictionary= {'name': 'Alice', 'city': 'Paris'}\n",
        "if \"city\" in info:\n",
        "  print(\"city is in the dictionary\")\n",
        "else:\n",
        "  print(\"city is not in the dictionary\")"
      ],
      "metadata": {
        "id": "OrVztUED2SBh"
      },
      "execution_count": null,
      "outputs": []
    },
    {
      "cell_type": "markdown",
      "source": [
        "26.)Write a code to create a list, a tuple, and a dictionary, and print them all.\n"
      ],
      "metadata": {
        "id": "qW3Jj5-B2SZF"
      }
    },
    {
      "cell_type": "code",
      "source": [
        "My_list=[100,200,300] #create a list\n",
        "My_tuple=(\"jitu\",\"Jitender\",\"jetu\")# create a tuple\n",
        "My_dict ={\"name\" : \"Jitender\",\"age\": 21} #create dictionary\n",
        "print(\"List :\",My_list)\n",
        "print(\"tuple :\",My_tuple)\n",
        "print(\"dictionary :\",My_dict)"
      ],
      "metadata": {
        "id": "h3b-2KHA2bZe"
      },
      "execution_count": null,
      "outputs": []
    },
    {
      "cell_type": "markdown",
      "source": [
        "27.)Write a code to create a list of 5 random numbers between 1 and 100, sort it in ascending order, and print the result.(replaced)."
      ],
      "metadata": {
        "id": "ox7Y_ldO2lFf"
      }
    },
    {
      "cell_type": "code",
      "source": [
        "import random\n",
        "\n",
        "random_list=[random.sample(range(1,101),1) for i in range(5)]\n",
        "sorted_list=sorted(random_list)\n",
        "print(random_list)\n",
        "print(sorted_list)\n"
      ],
      "metadata": {
        "id": "Qioveez6GG6Q"
      },
      "execution_count": null,
      "outputs": []
    },
    {
      "cell_type": "markdown",
      "source": [
        "\n",
        "28.)Write a code to create a list with strings and print the element at the third index."
      ],
      "metadata": {
        "id": "_XTYIrXk2vfH"
      }
    },
    {
      "cell_type": "code",
      "source": [
        "My_list=[\"sonu\",\"monu\",\"jonu\",\"tonu\"]\n",
        "print(My_list[3])"
      ],
      "metadata": {
        "id": "PLj-0uRN20nT"
      },
      "execution_count": null,
      "outputs": []
    },
    {
      "cell_type": "markdown",
      "source": [
        "29.)Write a code to combine two dictionaries into one and print the result."
      ],
      "metadata": {
        "id": "-YMUZZSj21MR"
      }
    },
    {
      "cell_type": "code",
      "source": [
        "dic1={\"Name\":\"Jitu\",\"age\":21,\"address\": \"quitar\" }\n",
        "dic2={\"Name\":\"Heema di\",\"age\":22 , \"Address\":\"Room sakun\" }\n",
        "dic1|dic2"
      ],
      "metadata": {
        "id": "pK5Xb1_Z25hg"
      },
      "execution_count": null,
      "outputs": []
    },
    {
      "cell_type": "markdown",
      "source": [
        "30.) Write a code to convert a list of strings into a set."
      ],
      "metadata": {
        "id": "laKUduDh2-PR"
      }
    },
    {
      "cell_type": "code",
      "source": [
        "string_list={\"mango\",\"banana\",\"apple\",\"mango\",\"apple\"}\n",
        "print(string_list)\n",
        "\n",
        "\n",
        "\n",
        "\n"
      ],
      "metadata": {
        "id": "j18rqKr131a4"
      },
      "execution_count": null,
      "outputs": []
    },
    {
      "cell_type": "markdown",
      "source": [
        "THEORY QUESTION"
      ],
      "metadata": {
        "id": "R5GOi0KvJXXG"
      }
    },
    {
      "cell_type": "markdown",
      "source": [
        "1.)What are data structures, and why are they important?"
      ],
      "metadata": {
        "id": "JFhB3oMWJryQ"
      }
    },
    {
      "cell_type": "markdown",
      "source": [
        "Ans.)A data structure is a method of organizing and storing data in a computer so that it can be used effectively. It defines the relationship between the data and the operations that can be performed on it. Data structures are essential for writing efficient algorithms and programs. They help in managing large volumes of data by enabling easy access, modification, and storage. Common types of data structures include arrays, lists, stacks, queues, sets, dictionaries, trees, and graphs. Each type has its own strengths and is used in different situations based on the problem requirements. Choosing the right data structure improves the efficiency of the program in terms of both time and memory. Data structures are widely used in software development, databases, artificial intelligence, and various real-life applications like search engines, file systems, and social networks. Understanding data structures is fundamental to becoming a good programmer.\n",
        "\n"
      ],
      "metadata": {
        "id": "OJxFYuHuKT9y"
      }
    },
    {
      "cell_type": "markdown",
      "source": [
        "2.)Explain the difference between mutable and immutable data types with examples"
      ],
      "metadata": {
        "id": "_0BUaSOdKgzu"
      }
    },
    {
      "cell_type": "markdown",
      "source": [
        "Ans.)In Python, data types are divided into two types based on whether their values can be changed: mutable and immutable.\n",
        "\n",
        "Mutable data types can be changed after they are created. This means you can add, remove, or update elements inside them. For example, a list is mutable. If you make a list like [1, 2, 3], you can change the first element to something else or add more elements to the list.\n",
        "\n",
        "Immutable data types cannot be changed once they are created. This means if you try to change their value, Python will not allow it or will create a new object. For example, strings are immutable. If you write \"hello\" and try to change the first letter, you cannot do it directly—you have to create a new string instead.\n",
        "\n",
        "Other examples of immutable types are tuples, integers, and floats. Mutable types include lists, dictionaries, and sets. Understanding this helps you write better and safer code, especially when working with functions and large programs.\n",
        "\n"
      ],
      "metadata": {
        "id": "l3NxanCTKkBZ"
      }
    },
    {
      "cell_type": "markdown",
      "source": [
        "3.)What are the main differences between lists and tuples in Python?"
      ],
      "metadata": {
        "id": "Z6UNnxtPLlMw"
      }
    },
    {
      "cell_type": "markdown",
      "source": [
        "Ans)1. Mutability\n",
        "\n",
        "List is mutable, which means you can change, add, or remove elements after it is created.\n",
        "\n",
        "Tuple is immutable, so you cannot change its elements once it is created.\n",
        "\n",
        "2. Syntax\n",
        "\n",
        "A list is written using square brackets: [1, 2, 3]\n",
        "\n",
        "A tuple is written using parentheses: (1, 2, 3)\n",
        "\n",
        "3. Performance\n",
        "\n",
        "Tuples are slightly faster than lists because they are fixed in size and simpler in structure.\n",
        "\n",
        "4. Use Case\n",
        "\n",
        "Use lists when you need to change the data.\n",
        "\n",
        "Use tuples when you want to protect the data from changes.\n",
        "\n"
      ],
      "metadata": {
        "id": "f6Wsq6Q4LniA"
      }
    },
    {
      "cell_type": "markdown",
      "source": [
        "4.)Describe how dictionaries store data."
      ],
      "metadata": {
        "id": "V801zzovMWKQ"
      }
    },
    {
      "cell_type": "markdown",
      "source": [
        "Ans.)n Python, a dictionary stores data in the form of key-value pairs. Each item in a dictionary has a key and a value, where the key acts like a label and the value is the data associated with that label. Keys must be unique and immutable (like strings, numbers, or tuples), while values can be of any type and can even repeat.\n",
        "\n",
        "When you create a dictionary, Python stores the data in a way that allows you to access values quickly using their keys. Internally, it uses a technique called hashing to convert keys into unique numbers (called hash values). These hash values help Python find where the value is stored in memory without searching through the entire dictionary. This makes accessing, adding, or changing data very fast—even if the dictionary has many items.\n",
        "\n",
        "For example, in a dictionary like {\"name\": \"Jitu\", \"age\": 20}, \"name\" and \"age\" are the keys, and \"Jitu\" and 20 are the values. If you ask Python for the value of the key \"name\", it quickly finds and returns \"Jitu\" without checking each item one by one."
      ],
      "metadata": {
        "id": "_6uoDlzcNFbK"
      }
    },
    {
      "cell_type": "markdown",
      "source": [
        "5.) Why might you use a set instead of a list in Python"
      ],
      "metadata": {
        "id": "EUj9ZGETNJn9"
      }
    },
    {
      "cell_type": "markdown",
      "source": [
        "Ans.)You might use a set instead of a list in Python when you need to store unique elements and do fast membership checking.\n",
        "\n",
        "Unlike lists, sets do not allow duplicate values. If you try to add the same element more than once, the set will only keep one copy. This is useful when you want to remove duplicates automatically. Also, sets are faster than lists when checking if a value exists in the collection because they use a method called hashing.\n",
        "\n",
        "For example, if you have a list of names with some repeated ones and you want only the unique names, using a set is a quick solution. However, remember that sets are unordered, so they do not keep the order of elements like lists do."
      ],
      "metadata": {
        "id": "wFblppcpNMPc"
      }
    },
    {
      "cell_type": "markdown",
      "source": [
        "6.)What is a string in Python, and how is it different from a list\n"
      ],
      "metadata": {
        "id": "1FPPMy69NO5Z"
      }
    },
    {
      "cell_type": "markdown",
      "source": [
        "Ans.)In Python, a string is a sequence of characters used to represent text. It can include letters, numbers, spaces, or symbols, and it is written inside single quotes (' ') or double quotes (\" \"). For example, \"Hello\" or 'Python123' are both strings.\n",
        "\n",
        "A string is immutable, meaning once it is created, you cannot change its characters directly.\n",
        "\n",
        "A list, on the other hand, is a collection of items (like numbers, strings, or even other lists) written in square brackets [ ]. Lists are mutable, so you can add, remove, or change elements after creating them.\n",
        "\n",
        "For example:\n",
        "\n",
        "python\n",
        "Copy\n",
        "Edit\n",
        "my_string = \"hello\"\n",
        "my_list = ['h', 'e', 'l', 'l', 'o']\n",
        "Even though both can store a sequence, the key difference is that strings store text and cannot be changed, while lists store a mix of items and can be modified."
      ],
      "metadata": {
        "id": "eizPlkGCNQ_m"
      }
    },
    {
      "cell_type": "markdown",
      "source": [
        "7.)How do tuples ensure data integrity in Python"
      ],
      "metadata": {
        "id": "HeGY0FfENWgX"
      }
    },
    {
      "cell_type": "markdown",
      "source": [
        "Ans.)Tuples ensure data integrity in Python by being immutable, which means their contents cannot be changed after they are created. Once you define a tuple, you cannot add, remove, or modify any of its elements. This immutability protects the data from accidental changes, especially when it is shared across different parts of a program.\n",
        "\n",
        "For example, if you store configuration settings or fixed values in a tuple, you can be confident that no part of your code will accidentally alter those values. This makes tuples a safe choice when you want to make sure the data remains constant throughout the program, helping to prevent bugs and maintain the correctness of the program.\n",
        "\n",
        "\n",
        "\n",
        "\n",
        "\n",
        "\n",
        "\n",
        "\n",
        "\n"
      ],
      "metadata": {
        "id": "E-FNQdgUNZKs"
      }
    },
    {
      "cell_type": "markdown",
      "source": [
        "8.) What is a hash table, and how does it relate to dictionaries in Python?"
      ],
      "metadata": {
        "id": "J5CKlnQ3Nbjz"
      }
    },
    {
      "cell_type": "markdown",
      "source": [
        "Ans.)A hash table is a data structure that stores data in key-value pairs and allows fast access to values using keys. It works by applying a hash function to a key, which converts the key into a unique number called a hash value. This hash value determines where the data is stored in memory, so the data can be retrieved quickly without searching through the entire collection.\n",
        "\n",
        "In Python, a dictionary is an implementation of a hash table. When you store something in a dictionary using a key, Python uses the hash of that key to find the right place in memory to store the value. Later, when you want to retrieve the value using the same key, Python uses the hash again to find the value very quickly.\n",
        "\n",
        "For example:\n",
        "\n",
        "python\n",
        "Copy\n",
        "Edit\n",
        "my_dict = {\"name\": \"Jitu\", \"age\": 20}\n",
        "Here, Python internally hashes the keys \"name\" and \"age\" to determine where to store their values. This makes dictionaries very fast for lookups, insertions, and deletions.\n",
        "\n",
        "\n",
        "\n",
        "\n",
        "\n",
        "\n",
        "\n",
        "\n",
        "\n"
      ],
      "metadata": {
        "id": "eKT_nfR0Ndeo"
      }
    },
    {
      "cell_type": "markdown",
      "source": [
        "9.)Can lists contain different data types in Python?"
      ],
      "metadata": {
        "id": "K-fxEj-zNfiU"
      }
    },
    {
      "cell_type": "markdown",
      "source": [
        "Ans.)Yes, **lists in Python can contain different data types**. A single list can hold a mix of integers, strings, floats, booleans, other lists, or even complex objects.\n",
        "\n",
        "For example:\n",
        "\n",
        "```python\n",
        "my_list = [10, \"Hello\", 3.14, True, [1, 2, 3]]\n",
        "```\n",
        "\n",
        "In this list:\n",
        "\n",
        "* `10` is an integer\n",
        "* `\"Hello\"` is a string\n",
        "* `3.14` is a float\n",
        "* `True` is a boolean\n",
        "* `[1, 2, 3]` is another list\n",
        "\n",
        "This flexibility makes lists very powerful for storing and working with a variety of data.\n"
      ],
      "metadata": {
        "id": "ng7Cu7u0NhXH"
      }
    },
    {
      "cell_type": "markdown",
      "source": [
        "10)Explain why strings are immutable in Python."
      ],
      "metadata": {
        "id": "RxXP9qBUPOdI"
      }
    },
    {
      "cell_type": "markdown",
      "source": [
        "Ans)Strings are immutable in Python, which means you cannot change them after they are created. This is done to make programs safer and more efficient. When a string is used in different parts of a program, immutability ensures that the original value stays the same and is not changed by mistake. It also helps Python store and manage strings more quickly, especially since they are used so often. Because strings cannot change, they can be used as keys in dictionaries, which require fixed values. If you want to modify a string, you have to create a new one based on the original.\n"
      ],
      "metadata": {
        "id": "2A0OBDRJP1Ds"
      }
    },
    {
      "cell_type": "markdown",
      "source": [
        "11) What advantages do dictionaries offer over lists for certain tasks?"
      ],
      "metadata": {
        "id": "VSGg8JCtP4Q0"
      }
    },
    {
      "cell_type": "markdown",
      "source": [
        "Ans)Dictionaries offer several advantages over lists for certain tasks, especially when working with data that is labeled or needs fast access. In a dictionary, data is stored using key-value pairs, which means you can access a value directly using a key, instead of searching through a list. This makes dictionaries much faster when you need to look up data by a specific label, like finding a student's grade using their name. Dictionaries also help organize data more clearly when each piece of data has a unique identifier. Unlike lists, which use only numbers as positions, dictionaries let you use meaningful names as keys, making your code easier to read and understand.\n"
      ],
      "metadata": {
        "id": "1rjeBcQ2P6KQ"
      }
    },
    {
      "cell_type": "markdown",
      "source": [
        "12)Describe a scenario where using a tuple would be preferable over a list."
      ],
      "metadata": {
        "id": "ASTMXoapP9Oy"
      }
    },
    {
      "cell_type": "markdown",
      "source": [
        "Ans)Using a tuple is preferable over a list when you want to store a fixed collection of items that should not change throughout the program. For example, if you are storing the coordinates of a point on a map, like (10, 20), a tuple is a better choice because the location is fixed and should not be accidentally modified. Tuples are also slightly faster than lists, so they are useful when dealing with large numbers of read-only values. Additionally, because tuples are immutable, they can be used as keys in dictionaries, while lists cannot. This makes them ideal for representing constant data that needs to be protected from changes."
      ],
      "metadata": {
        "id": "Iaz1mv5KP_cd"
      }
    },
    {
      "cell_type": "markdown",
      "source": [
        "13)How do sets handle duplicate values in Python?"
      ],
      "metadata": {
        "id": "dVvvCyB9QCTS"
      }
    },
    {
      "cell_type": "markdown",
      "source": [
        "Ans)In Python, **sets automatically remove duplicate values**. When you create a set, it only keeps **unique elements**, even if you try to add the same value multiple times.\n",
        "\n",
        "For example:\n",
        "\n",
        "```python\n",
        "my_set = {1, 2, 2, 3, 4, 4}\n",
        "print(my_set)  # Output: {1, 2, 3, 4}\n",
        "```\n",
        "\n",
        "In this case, even though `2` and `4` are added twice, the set only keeps one copy of each. This is because sets are designed to store **unordered collections of unique items**, which makes them useful when you need to automatically remove duplicates from a list or any other collection.\n"
      ],
      "metadata": {
        "id": "tjb2277SQD4r"
      }
    },
    {
      "cell_type": "markdown",
      "source": [
        "14) How does the “in” keyword work differently for lists and dictionaries?"
      ],
      "metadata": {
        "id": "w9laZrIeQFaR"
      }
    },
    {
      "cell_type": "markdown",
      "source": [
        "Ans)The **\"in\"** keyword is used to check if a value exists, but it works differently for **lists** and **dictionaries** in Python.\n",
        "\n",
        "In a **list**, `\"in\"` checks if a value exists among the list's elements. For example:\n",
        "\n",
        "```python\n",
        "my_list = [1, 2, 3]\n",
        "print(2 in my_list)  # True\n",
        "```\n",
        "\n",
        "Here, it looks for the value `2` in the list.\n",
        "\n",
        "In a **dictionary**, `\"in\"` checks if a **key** exists, not a value. For example:\n",
        "\n",
        "```python\n",
        "my_dict = {\"name\": \"Jitu\", \"age\": 20}\n",
        "print(\"name\" in my_dict)  # True\n",
        "print(\"Jitu\" in my_dict)  # False\n",
        "```\n",
        "\n",
        "So, for lists, it checks for values, but for dictionaries, it checks for keys.\n"
      ],
      "metadata": {
        "id": "X7vPny-RQIar"
      }
    },
    {
      "cell_type": "markdown",
      "source": [
        "15) Can you modify the elements of a tuple? Explain why or why not?"
      ],
      "metadata": {
        "id": "WLV7rQH_QKgB"
      }
    },
    {
      "cell_type": "markdown",
      "source": [
        "Ans.)No, you cannot modify the elements of a tuple in Python. Tuples are **immutable**, which means once they are created, their values cannot be changed. This includes not being able to add, remove, or update any of the items inside them.\n",
        "\n",
        "The reason for this is that immutability helps protect data from accidental changes. It also allows Python to handle tuples more efficiently and makes them safe to use as keys in dictionaries or elements in sets. If you try to change a value in a tuple, Python will raise an error.\n",
        "\n",
        "For example:\n",
        "\n",
        "```python\n",
        "my_tuple = (1, 2, 3)\n",
        "my_tuple[0] = 10  #  This will cause a TypeError\n",
        "```\n",
        "\n",
        "To update a tuple, you have to create a new one with the desired values.\n"
      ],
      "metadata": {
        "id": "2EDIB7zyQMYl"
      }
    },
    {
      "cell_type": "markdown",
      "source": [
        "16)What is a nested dictionary, and give an example of its use case?"
      ],
      "metadata": {
        "id": "kueVKZUFQQbr"
      }
    },
    {
      "cell_type": "markdown",
      "source": [
        "Ans)A **nested dictionary** is a dictionary where values can also be dictionaries. It helps in storing complex and grouped data.\n",
        "\n",
        "**Example:**\n",
        "\n",
        "```python\n",
        "students = {\n",
        "  \"student1\": {\"name\": \"Jitu\", \"age\": 20},\n",
        "  \"student2\": {\"name\": \"Ravi\", \"age\": 22}\n",
        "}\n",
        "```\n",
        "\n",
        "**Use Case:**\n",
        "Useful for managing related data like student records, product info, or settings in a structured way.\n"
      ],
      "metadata": {
        "id": "oYF18AV4QekD"
      }
    },
    {
      "cell_type": "markdown",
      "source": [
        "17) Describe the time complexity of accessing elements in a dictionary"
      ],
      "metadata": {
        "id": "_h9sEu1XQkEx"
      }
    },
    {
      "cell_type": "markdown",
      "source": [
        "Ans)Accessing elements in a dictionary in Python has a time complexity of O(1) on average. This means you can retrieve a value using its key very quickly, no matter how large the dictionary is.\n",
        "\n",
        "This fast access is possible because dictionaries use a hash table under the hood. When you use a key to get a value, Python uses a hash function to find the exact location in memory.\n",
        "\n",
        "However, in rare cases, if many keys produce the same hash (a hash collision), the time complexity can go up to O(n) in the worst case. But this is uncommon, so dictionary lookups are generally considered very efficient."
      ],
      "metadata": {
        "id": "Uzt_UC76Qmj7"
      }
    },
    {
      "cell_type": "markdown",
      "source": [
        "18) In what situations are lists preferred over dictionarie?\n"
      ],
      "metadata": {
        "id": "YdwmhDZWQpEQ"
      }
    },
    {
      "cell_type": "markdown",
      "source": [
        "Ans)Lists are preferred over dictionaries when:\n",
        "\n",
        "1. **Order matters** – Lists keep items in the order you add them, while dictionaries (before Python 3.7) do not guarantee order.\n",
        "\n",
        "2. **You only need values** – If you don’t need labels (keys) and just want to store a sequence of items, a list is simpler.\n",
        "\n",
        "3. **You want to access items by position** – Lists use index numbers (like 0, 1, 2...) which is useful for looping and slicing.\n",
        "\n",
        "4. **The data doesn’t need unique labels** – Lists allow duplicate values, while dictionary keys must be unique.\n",
        "\n",
        "So, use lists for simple, ordered collections of items without labels.\n"
      ],
      "metadata": {
        "id": "cWo0RBIdQsCm"
      }
    },
    {
      "cell_type": "markdown",
      "source": [
        "19.)Why are dictionaries considered unordered, and how does that affect data retrieval?"
      ],
      "metadata": {
        "id": "iqOFmJSgQuE0"
      }
    },
    {
      "cell_type": "markdown",
      "source": [
        "Ans)Dictionaries were considered **unordered** in Python versions before 3.7 because they did not keep the order in which items were added. This meant the elements could appear in any order when you printed or looped through them.\n",
        "\n",
        "From **Python 3.7 and above**, dictionaries **preserve insertion order**, meaning the items stay in the order they were added. However, dictionaries are still not designed for order-based access like lists (which use index numbers).\n",
        "\n",
        "Instead, dictionaries are optimized for **fast access using keys**, not positions. So, even if the order is preserved, you still **retrieve values by their keys**, not by their position. This allows for quick lookups but not for slicing or accessing by number index.\n"
      ],
      "metadata": {
        "id": "OFh_nbeXQw6j"
      }
    },
    {
      "cell_type": "markdown",
      "source": [
        "20)  Explain the difference between a list and a dictionary in terms of data retrieval.\n"
      ],
      "metadata": {
        "id": "4w7kUtHwQymS"
      }
    },
    {
      "cell_type": "markdown",
      "source": [
        "Ans)The main difference between a **list** and a **dictionary** in terms of data retrieval is **how you access the data**.\n",
        "\n",
        "In a **list**, data is accessed using **index numbers**. Each item has a position, starting from 0. For example, `my_list[0]` gives the first item.\n",
        "\n",
        "In a **dictionary**, data is accessed using **keys** instead of numbers. Each key points to a specific value. For example, `my_dict[\"name\"]` gives the value stored with the key `\"name\"`.\n",
        "\n",
        "So, use a **list** when you need ordered data accessed by position, and use a **dictionary** when you want to look up data using meaningful names or labels.\n"
      ],
      "metadata": {
        "id": "swxSDwWGQ0rX"
      }
    }
  ]
}